{
  "cells": [
    {
      "cell_type": "code",
      "execution_count": 3,
      "metadata": {
        "id": "oLDgOdLUkX_m"
      },
      "outputs": [],
      "source": [
        "import numpy as np\n",
        "import pandas as pd\n",
        "#import some library for model building"
      ]
    },
    {
      "cell_type": "code",
      "execution_count": 4,
      "metadata": {
        "colab": {
          "base_uri": "https://localhost:8080/",
          "height": 358
        },
        "id": "UbS-D1lum8Tc",
        "outputId": "94ead5fb-1fb1-48b7-b7e1-28aa00a31dc8"
      },
      "outputs": [
        {
          "output_type": "execute_result",
          "data": {
            "text/html": [
              "\n",
              "  <div id=\"df-a232e9e5-7d15-45bd-8a0d-f96bfda15e47\">\n",
              "    <div class=\"colab-df-container\">\n",
              "      <div>\n",
              "<style scoped>\n",
              "    .dataframe tbody tr th:only-of-type {\n",
              "        vertical-align: middle;\n",
              "    }\n",
              "\n",
              "    .dataframe tbody tr th {\n",
              "        vertical-align: top;\n",
              "    }\n",
              "\n",
              "    .dataframe thead th {\n",
              "        text-align: right;\n",
              "    }\n",
              "</style>\n",
              "<table border=\"1\" class=\"dataframe\">\n",
              "  <thead>\n",
              "    <tr style=\"text-align: right;\">\n",
              "      <th></th>\n",
              "      <th>Label</th>\n",
              "      <th>EmailText</th>\n",
              "    </tr>\n",
              "  </thead>\n",
              "  <tbody>\n",
              "    <tr>\n",
              "      <th>0</th>\n",
              "      <td>ham</td>\n",
              "      <td>Go until jurong point, crazy.. Available only ...</td>\n",
              "    </tr>\n",
              "    <tr>\n",
              "      <th>1</th>\n",
              "      <td>ham</td>\n",
              "      <td>Ok lar... Joking wif u oni...</td>\n",
              "    </tr>\n",
              "    <tr>\n",
              "      <th>2</th>\n",
              "      <td>spam</td>\n",
              "      <td>Free entry in 2 a wkly comp to win FA Cup fina...</td>\n",
              "    </tr>\n",
              "    <tr>\n",
              "      <th>3</th>\n",
              "      <td>ham</td>\n",
              "      <td>U dun say so early hor... U c already then say...</td>\n",
              "    </tr>\n",
              "    <tr>\n",
              "      <th>4</th>\n",
              "      <td>ham</td>\n",
              "      <td>Nah I don't think he goes to usf, he lives aro...</td>\n",
              "    </tr>\n",
              "    <tr>\n",
              "      <th>5</th>\n",
              "      <td>spam</td>\n",
              "      <td>FreeMsg Hey there darling it's been 3 week's n...</td>\n",
              "    </tr>\n",
              "    <tr>\n",
              "      <th>6</th>\n",
              "      <td>ham</td>\n",
              "      <td>Even my brother is not like to speak with me. ...</td>\n",
              "    </tr>\n",
              "    <tr>\n",
              "      <th>7</th>\n",
              "      <td>ham</td>\n",
              "      <td>As per your request 'Melle Melle (Oru Minnamin...</td>\n",
              "    </tr>\n",
              "    <tr>\n",
              "      <th>8</th>\n",
              "      <td>spam</td>\n",
              "      <td>WINNER!! As a valued network customer you have...</td>\n",
              "    </tr>\n",
              "    <tr>\n",
              "      <th>9</th>\n",
              "      <td>spam</td>\n",
              "      <td>Had your mobile 11 months or more? U R entitle...</td>\n",
              "    </tr>\n",
              "  </tbody>\n",
              "</table>\n",
              "</div>\n",
              "      <button class=\"colab-df-convert\" onclick=\"convertToInteractive('df-a232e9e5-7d15-45bd-8a0d-f96bfda15e47')\"\n",
              "              title=\"Convert this dataframe to an interactive table.\"\n",
              "              style=\"display:none;\">\n",
              "        \n",
              "  <svg xmlns=\"http://www.w3.org/2000/svg\" height=\"24px\"viewBox=\"0 0 24 24\"\n",
              "       width=\"24px\">\n",
              "    <path d=\"M0 0h24v24H0V0z\" fill=\"none\"/>\n",
              "    <path d=\"M18.56 5.44l.94 2.06.94-2.06 2.06-.94-2.06-.94-.94-2.06-.94 2.06-2.06.94zm-11 1L8.5 8.5l.94-2.06 2.06-.94-2.06-.94L8.5 2.5l-.94 2.06-2.06.94zm10 10l.94 2.06.94-2.06 2.06-.94-2.06-.94-.94-2.06-.94 2.06-2.06.94z\"/><path d=\"M17.41 7.96l-1.37-1.37c-.4-.4-.92-.59-1.43-.59-.52 0-1.04.2-1.43.59L10.3 9.45l-7.72 7.72c-.78.78-.78 2.05 0 2.83L4 21.41c.39.39.9.59 1.41.59.51 0 1.02-.2 1.41-.59l7.78-7.78 2.81-2.81c.8-.78.8-2.07 0-2.86zM5.41 20L4 18.59l7.72-7.72 1.47 1.35L5.41 20z\"/>\n",
              "  </svg>\n",
              "      </button>\n",
              "      \n",
              "  <style>\n",
              "    .colab-df-container {\n",
              "      display:flex;\n",
              "      flex-wrap:wrap;\n",
              "      gap: 12px;\n",
              "    }\n",
              "\n",
              "    .colab-df-convert {\n",
              "      background-color: #E8F0FE;\n",
              "      border: none;\n",
              "      border-radius: 50%;\n",
              "      cursor: pointer;\n",
              "      display: none;\n",
              "      fill: #1967D2;\n",
              "      height: 32px;\n",
              "      padding: 0 0 0 0;\n",
              "      width: 32px;\n",
              "    }\n",
              "\n",
              "    .colab-df-convert:hover {\n",
              "      background-color: #E2EBFA;\n",
              "      box-shadow: 0px 1px 2px rgba(60, 64, 67, 0.3), 0px 1px 3px 1px rgba(60, 64, 67, 0.15);\n",
              "      fill: #174EA6;\n",
              "    }\n",
              "\n",
              "    [theme=dark] .colab-df-convert {\n",
              "      background-color: #3B4455;\n",
              "      fill: #D2E3FC;\n",
              "    }\n",
              "\n",
              "    [theme=dark] .colab-df-convert:hover {\n",
              "      background-color: #434B5C;\n",
              "      box-shadow: 0px 1px 3px 1px rgba(0, 0, 0, 0.15);\n",
              "      filter: drop-shadow(0px 1px 2px rgba(0, 0, 0, 0.3));\n",
              "      fill: #FFFFFF;\n",
              "    }\n",
              "  </style>\n",
              "\n",
              "      <script>\n",
              "        const buttonEl =\n",
              "          document.querySelector('#df-a232e9e5-7d15-45bd-8a0d-f96bfda15e47 button.colab-df-convert');\n",
              "        buttonEl.style.display =\n",
              "          google.colab.kernel.accessAllowed ? 'block' : 'none';\n",
              "\n",
              "        async function convertToInteractive(key) {\n",
              "          const element = document.querySelector('#df-a232e9e5-7d15-45bd-8a0d-f96bfda15e47');\n",
              "          const dataTable =\n",
              "            await google.colab.kernel.invokeFunction('convertToInteractive',\n",
              "                                                     [key], {});\n",
              "          if (!dataTable) return;\n",
              "\n",
              "          const docLinkHtml = 'Like what you see? Visit the ' +\n",
              "            '<a target=\"_blank\" href=https://colab.research.google.com/notebooks/data_table.ipynb>data table notebook</a>'\n",
              "            + ' to learn more about interactive tables.';\n",
              "          element.innerHTML = '';\n",
              "          dataTable['output_type'] = 'display_data';\n",
              "          await google.colab.output.renderOutput(dataTable, element);\n",
              "          const docLink = document.createElement('div');\n",
              "          docLink.innerHTML = docLinkHtml;\n",
              "          element.appendChild(docLink);\n",
              "        }\n",
              "      </script>\n",
              "    </div>\n",
              "  </div>\n",
              "  "
            ],
            "text/plain": [
              "  Label                                          EmailText\n",
              "0   ham  Go until jurong point, crazy.. Available only ...\n",
              "1   ham                      Ok lar... Joking wif u oni...\n",
              "2  spam  Free entry in 2 a wkly comp to win FA Cup fina...\n",
              "3   ham  U dun say so early hor... U c already then say...\n",
              "4   ham  Nah I don't think he goes to usf, he lives aro...\n",
              "5  spam  FreeMsg Hey there darling it's been 3 week's n...\n",
              "6   ham  Even my brother is not like to speak with me. ...\n",
              "7   ham  As per your request 'Melle Melle (Oru Minnamin...\n",
              "8  spam  WINNER!! As a valued network customer you have...\n",
              "9  spam  Had your mobile 11 months or more? U R entitle..."
            ]
          },
          "metadata": {},
          "execution_count": 4
        }
      ],
      "source": [
        "#read data\n",
        "df = pd.read_csv(\"spam.csv\")\n",
        "df.head(10)"
      ]
    },
    {
      "cell_type": "markdown",
      "source": [
        ""
      ],
      "metadata": {
        "id": "kF8PBbU9SXoM"
      }
    },
    {
      "cell_type": "code",
      "execution_count": 5,
      "metadata": {
        "id": "lmyIHizPhDqW",
        "colab": {
          "base_uri": "https://localhost:8080/"
        },
        "outputId": "b6c61c42-83dc-44a9-bbc9-f2505d2c46b5"
      },
      "outputs": [
        {
          "output_type": "stream",
          "name": "stdout",
          "text": [
            "0       Go until jurong point, crazy.. Available only ...\n",
            "1                           Ok lar... Joking wif u oni...\n",
            "2       Free entry in 2 a wkly comp to win FA Cup fina...\n",
            "3       U dun say so early hor... U c already then say...\n",
            "4       Nah I don't think he goes to usf, he lives aro...\n",
            "                              ...                        \n",
            "5567    This is the 2nd time we have tried 2 contact u...\n",
            "5568               Will Ã_ b going to esplanade fr home?\n",
            "5569    Pity, * was in mood for that. So...any other s...\n",
            "5570    The guy did some bitching but I acted like i'd...\n",
            "5571                           Rofl. Its true to its name\n",
            "Name: EmailText, Length: 5572, dtype: object\n",
            "Y:\n",
            "0        ham\n",
            "1        ham\n",
            "2       spam\n",
            "3        ham\n",
            "4        ham\n",
            "        ... \n",
            "5567    spam\n",
            "5568     ham\n",
            "5569     ham\n",
            "5570     ham\n",
            "5571     ham\n",
            "Name: Label, Length: 5572, dtype: object\n"
          ]
        }
      ],
      "source": [
        "X = df[\"EmailText\"]\n",
        "Y = df[\"Label\"]\n",
        "print(X)\n",
        "print(\"Y:\")\n",
        "print(Y)"
      ]
    },
    {
      "cell_type": "code",
      "execution_count": 6,
      "metadata": {
        "id": "pSMdo4yAp-S9"
      },
      "outputs": [],
      "source": [
        "from sklearn.model_selection import train_test_split\n",
        "\n",
        "X_train, X_test, y_train, y_test = train_test_split(X, Y, test_size=0.3, random_state=4)"
      ]
    },
    {
      "cell_type": "code",
      "execution_count": 7,
      "metadata": {
        "colab": {
          "base_uri": "https://localhost:8080/"
        },
        "id": "Cb2__mnWXnIg",
        "outputId": "8bb0e3d8-68ac-409c-ce1d-eb1f3fa66d43"
      },
      "outputs": [
        {
          "output_type": "stream",
          "name": "stdout",
          "text": [
            "[[0 0 0 ... 0 0 0]\n",
            " [0 0 0 ... 0 0 0]\n",
            " [0 0 0 ... 0 0 0]\n",
            " [0 0 0 ... 0 0 0]\n",
            " [0 0 0 ... 0 0 0]]\n"
          ]
        }
      ],
      "source": [
        "#extract feature by counting # of words\n",
        "from sklearn.feature_extraction.text import CountVectorizer\n",
        "cv = CountVectorizer()\n",
        "features = cv.fit_transform(X_train)\n",
        "feArry = features.toarray()\n",
        "print(feArry[:5])"
      ]
    },
    {
      "cell_type": "code",
      "execution_count": 8,
      "metadata": {
        "colab": {
          "base_uri": "https://localhost:8080/"
        },
        "id": "vQ9-DsqdYUNv",
        "outputId": "0e0b3611-cfb2-4922-c127-a37b00608b38"
      },
      "outputs": [
        {
          "output_type": "stream",
          "name": "stdout",
          "text": [
            "0.9760765550239234\n"
          ]
        }
      ],
      "source": [
        "from sklearn import svm\n",
        "#create svm model\n",
        "\n",
        "svmModel = svm.SVC()\n",
        "svmModel.fit(features,y_train)\n",
        "\n",
        "#test acurracy\n",
        "#extract feature from text from x_test\n",
        "features_test = cv.transform(X_test)\n",
        "\n",
        "score = svmModel.score(features_test,y_test)\n",
        "print(score)"
      ]
    },
    {
      "cell_type": "code",
      "execution_count": 9,
      "metadata": {
        "colab": {
          "base_uri": "https://localhost:8080/"
        },
        "id": "TirU02qesOyG",
        "outputId": "ba6bd092-cc8e-4a80-d53a-59e6aaa106a4"
      },
      "outputs": [
        {
          "output_type": "stream",
          "name": "stdout",
          "text": [
            "[[ 198   40]\n",
            " [   0 1434]]\n"
          ]
        }
      ],
      "source": [
        "prediction = svmModel.predict(features_test)\n",
        "from sklearn import metrics\n",
        "my_matrix = metrics.confusion_matrix(y_test, prediction, labels=[\"spam\",\"ham\"])\n",
        "print(my_matrix)"
      ]
    },
    {
      "cell_type": "code",
      "execution_count": 10,
      "metadata": {
        "id": "H1agN3oa4uu3",
        "colab": {
          "base_uri": "https://localhost:8080/"
        },
        "outputId": "35430521-683f-433f-a3d6-32290bbd76a9"
      },
      "outputs": [
        {
          "output_type": "stream",
          "name": "stdout",
          "text": [
            "spam ham\n",
            "spam ham\n",
            "spam ham\n",
            "spam ham\n",
            "spam ham\n",
            "spam ham\n",
            "spam ham\n",
            "spam ham\n",
            "spam ham\n",
            "spam ham\n",
            "spam ham\n",
            "spam ham\n",
            "spam ham\n",
            "spam ham\n",
            "spam ham\n",
            "spam ham\n",
            "spam ham\n",
            "spam ham\n",
            "spam ham\n",
            "spam ham\n",
            "spam ham\n",
            "spam ham\n",
            "spam ham\n",
            "spam ham\n",
            "spam ham\n",
            "spam ham\n",
            "spam ham\n",
            "spam ham\n",
            "spam ham\n",
            "spam ham\n",
            "spam ham\n",
            "spam ham\n",
            "spam ham\n",
            "spam ham\n",
            "spam ham\n",
            "spam ham\n",
            "spam ham\n",
            "spam ham\n",
            "spam ham\n",
            "spam ham\n",
            "40\n"
          ]
        }
      ],
      "source": [
        "# in kết quả để so sánh\n",
        "#print(y_test)\n",
        "y_test = np.array(y_test)\n",
        "count = 0\n",
        "for i in range(len(y_test)):\n",
        "  if(y_test[i] != prediction[i]):\n",
        "    count+=1\n",
        "    print(y_test[i],prediction[i])\n",
        "\n",
        "print(count)"
      ]
    },
    {
      "cell_type": "code",
      "execution_count": 11,
      "metadata": {
        "id": "UZ8-m_TiJNb8",
        "colab": {
          "base_uri": "https://localhost:8080/"
        },
        "outputId": "24535949-a950-41be-fc79-1a9a78f51737"
      },
      "outputs": [
        {
          "output_type": "stream",
          "name": "stdout",
          "text": [
            "0.9784688995215312\n",
            "['ham' 'ham' 'spam' 'ham' 'ham']\n",
            "['ham' 'ham' 'spam' 'ham' 'ham']\n",
            "[[ 204   34]\n",
            " [   2 1432]]\n"
          ]
        }
      ],
      "source": [
        "#trying with LogisticRegression Model\n",
        "from sklearn.linear_model import LogisticRegression\n",
        "\n",
        "lrModel = LogisticRegression(random_state=42).fit(features,y_train)\n",
        "lrScore = lrModel.score(features_test,y_test)\n",
        "print(lrScore)\n",
        "\n",
        "lrY_predict = lrModel.predict(features_test)\n",
        "print(lrY_predict[:5])\n",
        "print(y_test[:5])\n",
        "\n",
        "lrMetrics = metrics.confusion_matrix(y_test, lrY_predict, labels=[\"spam\",\"ham\"])\n",
        "print(lrMetrics)"
      ]
    },
    {
      "cell_type": "code",
      "execution_count": 12,
      "metadata": {
        "colab": {
          "base_uri": "https://localhost:8080/"
        },
        "id": "ij0q43fzKLUU",
        "outputId": "5c4497fa-89b5-4f3c-be83-f3ba6927ab9c"
      },
      "outputs": [
        {
          "output_type": "stream",
          "name": "stdout",
          "text": [
            "['12 hours left, free services. 50% off the improved Academia Premium. Gift yourself some back-to-school stress relief by upgrading to the best version ever of Academia Premium--at half the normal price.'\n",
            " 'Hello geeks ,GATE 2022 is just a few weeks away! But worry not, we are here to help you!We bring to you yet another opportunity to strengthen your preparation and clear GATE-CS 2022 with flying colours.'\n",
            " 'congrats! free money click in this link freemoney.com now or sms 9900 to get freemoney']\n",
            "['spam' 'ham' 'spam']\n",
            "['ham' 'ham' 'spam']\n"
          ]
        }
      ],
      "source": [
        "example = \"12 hours left, free services. 50% off the improved Academia Premium. Gift yourself some back-to-school stress relief by upgrading to the best version ever of Academia Premium--at half the normal price.\"\n",
        "example2 = \"Hello geeks ,GATE 2022 is just a few weeks away! But worry not, we are here to help you!We bring to you yet another opportunity to strengthen your preparation and clear GATE-CS 2022 with flying colours.\"\n",
        "example3 = \"congrats! free money click in this link freemoney.com now or sms 9900 to get freemoney\"\n",
        "exArray = np.array([example,example2,example3])\n",
        "print(exArray)\n",
        "\n",
        "#extrace feature from text \n",
        "features_example = cv.transform(exArray)\n",
        "exLR_predict = lrModel.predict(features_example)\n",
        "print(exLR_predict)\n",
        "\n",
        "exSVM_predict = svmModel.predict(features_example)\n",
        "print(exSVM_predict)"
      ]
    },
    {
      "cell_type": "code",
      "execution_count": 13,
      "metadata": {
        "id": "j7yl5wrQK3oD",
        "colab": {
          "base_uri": "https://localhost:8080/"
        },
        "outputId": "a7bd3e0a-338b-487a-c874-f1eaa1688b2c"
      },
      "outputs": [
        {
          "output_type": "stream",
          "name": "stdout",
          "text": [
            "0.9742822966507177\n",
            "spam ham\n",
            "spam ham\n",
            "spam ham\n",
            "spam ham\n",
            "spam ham\n",
            "spam ham\n",
            "spam ham\n",
            "spam ham\n",
            "spam ham\n",
            "spam ham\n",
            "spam ham\n",
            "spam ham\n",
            "spam ham\n",
            "spam ham\n",
            "spam ham\n",
            "spam ham\n",
            "spam ham\n",
            "spam ham\n",
            "spam ham\n",
            "spam ham\n",
            "spam ham\n",
            "spam ham\n",
            "spam ham\n",
            "spam ham\n",
            "spam ham\n",
            "spam ham\n",
            "spam ham\n",
            "spam ham\n",
            "spam ham\n",
            "spam ham\n",
            "spam ham\n",
            "spam ham\n",
            "spam ham\n",
            "spam ham\n",
            "spam ham\n",
            "spam ham\n",
            "spam ham\n",
            "spam ham\n",
            "spam ham\n",
            "spam ham\n",
            "spam ham\n",
            "spam ham\n",
            "spam ham\n",
            "43\n"
          ]
        }
      ],
      "source": [
        "#create RandomForest model to test\n",
        "from sklearn.ensemble import RandomForestClassifier\n",
        "\n",
        "#build model with fixed value to prevent large tree grown\n",
        "rfModel = RandomForestClassifier(max_depth=500,random_state=4)\n",
        "rfModel.fit(features,y_train)\n",
        "\n",
        "\n",
        "rfScore = rfModel.score(features_test,y_test)\n",
        "print(rfScore)\n",
        "\n",
        "rf_predict = rfModel.predict(features_test)\n",
        "\n",
        "\n",
        "y_test = np.array(y_test)\n",
        "count = 0\n",
        "for i in range(len(y_test)):\n",
        "  if(y_test[i] != rf_predict[i]):\n",
        "    count+=1\n",
        "    print(y_test[i],rf_predict[i])\n",
        "print(count)"
      ]
    },
    {
      "cell_type": "code",
      "source": [
        "#preprocessing data for Neural Network\n",
        "from sklearn.preprocessing import LabelEncoder\n",
        "\n",
        "X2 = df.EmailText\n",
        "Y2 = df.Label\n",
        "le = LabelEncoder()\n",
        "Y2 = le.fit_transform(Y2) #ham and spam to 0 and 1\n",
        "print(Y2)\n",
        "Y2.reshape(-1,1)"
      ],
      "metadata": {
        "colab": {
          "base_uri": "https://localhost:8080/"
        },
        "id": "8JlnOcN-KWfw",
        "outputId": "d9372127-1ce2-48c2-88d4-335e2d49db81"
      },
      "execution_count": 14,
      "outputs": [
        {
          "output_type": "stream",
          "name": "stdout",
          "text": [
            "[0 0 1 ... 0 0 0]\n"
          ]
        },
        {
          "output_type": "execute_result",
          "data": {
            "text/plain": [
              "array([[0],\n",
              "       [0],\n",
              "       [1],\n",
              "       ...,\n",
              "       [0],\n",
              "       [0],\n",
              "       [0]])"
            ]
          },
          "metadata": {},
          "execution_count": 14
        }
      ]
    },
    {
      "cell_type": "code",
      "source": [
        "X2_train, X2_test, Y2_train, Y2_test = train_test_split(X2, Y2, test_size=0.25, stratify = Y2)\n",
        "print(X2_train[:2])\n",
        "print(Y2_train[:2])"
      ],
      "metadata": {
        "colab": {
          "base_uri": "https://localhost:8080/"
        },
        "id": "yr1TLNtsZiRd",
        "outputId": "48b42be1-bdf4-4fd6-d19b-24a9791adbe6"
      },
      "execution_count": 15,
      "outputs": [
        {
          "output_type": "stream",
          "name": "stdout",
          "text": [
            "1039    They just talking thats it de. They wont any o...\n",
            "2710    Hope you enjoyed your new content. text stop t...\n",
            "Name: EmailText, dtype: object\n",
            "[0 1]\n"
          ]
        }
      ]
    },
    {
      "cell_type": "code",
      "source": [
        "from keras.preprocessing.text import Tokenizer\n",
        "from keras.preprocessing import sequence\n",
        "\n",
        "max_words = 1000\n",
        "max_len = 150\n",
        "tok = Tokenizer(num_words=max_words)\n",
        "tok.fit_on_texts(X2_train)\n",
        "sequences = tok.texts_to_sequences(X2_train)\n",
        "sequences_matrix = sequence.pad_sequences(sequences,maxlen=max_len)"
      ],
      "metadata": {
        "id": "9NKg3W5ZPWbH"
      },
      "execution_count": 16,
      "outputs": []
    },
    {
      "cell_type": "code",
      "source": [
        "from keras.layers import LSTM, Activation, Dense, Dropout, Input, Embedding\n",
        "from keras.models import Model\n",
        "def RNN():\n",
        "    inputs = Input(name='inputs',shape=[max_len])\n",
        "    layer = Embedding(max_words,128,input_length=max_len)(inputs)\n",
        "    # Embedding (input_dim: size of vocabolary, \n",
        "    # output_dim: dimension of dense embedding, \n",
        "    # input_length: length of input sequence)\n",
        "    layer = LSTM(64)(layer)\n",
        "    layer = Dense(256,name='FC1')(layer)\n",
        "    layer = Activation('relu')(layer)\n",
        "    layer = Dropout(0.5)(layer)\n",
        "    layer = Dense(1,name='out_layer')(layer)\n",
        "    layer = Activation('sigmoid')(layer)\n",
        "    model = Model(inputs=inputs,outputs=layer)\n",
        "    return model"
      ],
      "metadata": {
        "id": "A4R-28O8hmEz"
      },
      "execution_count": 17,
      "outputs": []
    },
    {
      "cell_type": "code",
      "source": [
        "model = RNN()\n",
        "model.summary()\n",
        "model.compile(loss='binary_crossentropy',optimizer='adam',metrics=['accuracy'])"
      ],
      "metadata": {
        "colab": {
          "base_uri": "https://localhost:8080/"
        },
        "id": "1giywAUAbowE",
        "outputId": "6cfc2e78-d03b-4f52-e9ba-6fd3f3719b9d"
      },
      "execution_count": 18,
      "outputs": [
        {
          "output_type": "stream",
          "name": "stdout",
          "text": [
            "Model: \"model\"\n",
            "_________________________________________________________________\n",
            " Layer (type)                Output Shape              Param #   \n",
            "=================================================================\n",
            " inputs (InputLayer)         [(None, 150)]             0         \n",
            "                                                                 \n",
            " embedding (Embedding)       (None, 150, 128)          128000    \n",
            "                                                                 \n",
            " lstm (LSTM)                 (None, 64)                49408     \n",
            "                                                                 \n",
            " FC1 (Dense)                 (None, 256)               16640     \n",
            "                                                                 \n",
            " activation (Activation)     (None, 256)               0         \n",
            "                                                                 \n",
            " dropout (Dropout)           (None, 256)               0         \n",
            "                                                                 \n",
            " out_layer (Dense)           (None, 1)                 257       \n",
            "                                                                 \n",
            " activation_1 (Activation)   (None, 1)                 0         \n",
            "                                                                 \n",
            "=================================================================\n",
            "Total params: 194,305\n",
            "Trainable params: 194,305\n",
            "Non-trainable params: 0\n",
            "_________________________________________________________________\n"
          ]
        }
      ]
    },
    {
      "cell_type": "code",
      "source": [
        "model.fit(sequences_matrix,Y2_train, epochs=10,batch_size=128)"
      ],
      "metadata": {
        "colab": {
          "base_uri": "https://localhost:8080/"
        },
        "id": "cXy6eq0db8Qc",
        "outputId": "3afc3ba1-ba89-4f2c-b741-8677f85b03eb"
      },
      "execution_count": 19,
      "outputs": [
        {
          "output_type": "stream",
          "name": "stdout",
          "text": [
            "Epoch 1/10\n",
            "33/33 [==============================] - 12s 276ms/step - loss: 0.4025 - accuracy: 0.8571\n",
            "Epoch 2/10\n",
            "33/33 [==============================] - 9s 273ms/step - loss: 0.0931 - accuracy: 0.9734\n",
            "Epoch 3/10\n",
            "33/33 [==============================] - 9s 273ms/step - loss: 0.0396 - accuracy: 0.9885\n",
            "Epoch 4/10\n",
            "33/33 [==============================] - 9s 273ms/step - loss: 0.0268 - accuracy: 0.9923\n",
            "Epoch 5/10\n",
            "33/33 [==============================] - 9s 272ms/step - loss: 0.0153 - accuracy: 0.9962\n",
            "Epoch 6/10\n",
            "33/33 [==============================] - 9s 274ms/step - loss: 0.0106 - accuracy: 0.9978\n",
            "Epoch 7/10\n",
            "33/33 [==============================] - 9s 275ms/step - loss: 0.0080 - accuracy: 0.9981\n",
            "Epoch 8/10\n",
            "33/33 [==============================] - 9s 278ms/step - loss: 0.0043 - accuracy: 0.9988\n",
            "Epoch 9/10\n",
            "33/33 [==============================] - 9s 279ms/step - loss: 0.0031 - accuracy: 0.9993\n",
            "Epoch 10/10\n",
            "33/33 [==============================] - 9s 276ms/step - loss: 0.0023 - accuracy: 0.9998\n"
          ]
        },
        {
          "output_type": "execute_result",
          "data": {
            "text/plain": [
              "<keras.callbacks.History at 0x7f8838677dd0>"
            ]
          },
          "metadata": {},
          "execution_count": 19
        }
      ]
    },
    {
      "cell_type": "code",
      "source": [
        "test_sequences = tok.texts_to_sequences(X2_test)\n",
        "test_sequences_matrix = sequence.pad_sequences(test_sequences,maxlen=max_len)\n",
        "\n",
        "accr = model.evaluate(test_sequences_matrix,Y2_test)\n",
        "print('Test set\\n  Loss: {:0.3f}\\n  Accuracy: {:0.3f}'.format(accr[0],accr[1]))"
      ],
      "metadata": {
        "colab": {
          "base_uri": "https://localhost:8080/"
        },
        "id": "lMb86Uj_bCvd",
        "outputId": "732d41d9-81cf-4f87-bf56-876759aac651"
      },
      "execution_count": 20,
      "outputs": [
        {
          "output_type": "stream",
          "name": "stdout",
          "text": [
            "44/44 [==============================] - 2s 27ms/step - loss: 0.0901 - accuracy: 0.9856\n",
            "Test set\n",
            "  Loss: 0.090\n",
            "  Accuracy: 0.986\n"
          ]
        }
      ]
    }
  ],
  "metadata": {
    "colab": {
      "collapsed_sections": [],
      "name": "Question2.ipynb",
      "provenance": []
    },
    "kernelspec": {
      "display_name": "Python 3",
      "name": "python3"
    },
    "language_info": {
      "name": "python"
    }
  },
  "nbformat": 4,
  "nbformat_minor": 0
}